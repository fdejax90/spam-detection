{
 "cells": [
  {
   "cell_type": "code",
   "execution_count": 2,
   "id": "1ea22949-ab0d-43b4-be69-fc20a264d964",
   "metadata": {},
   "outputs": [],
   "source": [
    "%load_ext autoreload\n",
    "%autoreload 2"
   ]
  },
  {
   "cell_type": "code",
   "execution_count": 3,
   "id": "cb4cca50-f60a-4e85-887c-bd68c37a8607",
   "metadata": {},
   "outputs": [],
   "source": [
    "import sys\n",
    "sys.path.append('../')"
   ]
  },
  {
   "cell_type": "code",
   "execution_count": 4,
   "id": "5320ab36-7f7f-431f-969a-2d28e1db8177",
   "metadata": {},
   "outputs": [
    {
     "name": "stderr",
     "output_type": "stream",
     "text": [
      "/usr/local/lib/python3.11/site-packages/tqdm/auto.py:21: TqdmWarning: IProgress not found. Please update jupyter and ipywidgets. See https://ipywidgets.readthedocs.io/en/stable/user_install.html\n",
      "  from .autonotebook import tqdm as notebook_tqdm\n"
     ]
    }
   ],
   "source": [
    "import copy\n",
    "from dataclasses import dataclass\n",
    "import numpy as np\n",
    "import os\n",
    "import pandas as pd\n",
    "\n",
    "from datasets import Dataset, Features, Value\n",
    "import evaluate\n",
    "from transformers import DataCollatorWithPadding\n",
    "from transformers import AutoModelForSequenceClassification, AutoTokenizer, TrainingArguments, Trainer, TrainerCallback\n",
    "from transformers import pipeline\n",
    "import torch"
   ]
  },
  {
   "cell_type": "code",
   "execution_count": 5,
   "id": "398893b8-4e75-438b-838e-fdba8b5e6c51",
   "metadata": {},
   "outputs": [
    {
     "data": {
      "text/plain": [
       "'/code/notebooks'"
      ]
     },
     "execution_count": 5,
     "metadata": {},
     "output_type": "execute_result"
    }
   ],
   "source": [
    "pwd"
   ]
  },
  {
   "cell_type": "code",
   "execution_count": 6,
   "id": "239a6053-1d9c-4ba9-9f65-0062bb0a6a34",
   "metadata": {},
   "outputs": [
    {
     "data": {
      "text/html": [
       "<div>\n",
       "<style scoped>\n",
       "    .dataframe tbody tr th:only-of-type {\n",
       "        vertical-align: middle;\n",
       "    }\n",
       "\n",
       "    .dataframe tbody tr th {\n",
       "        vertical-align: top;\n",
       "    }\n",
       "\n",
       "    .dataframe thead th {\n",
       "        text-align: right;\n",
       "    }\n",
       "</style>\n",
       "<table border=\"1\" class=\"dataframe\">\n",
       "  <thead>\n",
       "    <tr style=\"text-align: right;\">\n",
       "      <th></th>\n",
       "      <th>label</th>\n",
       "      <th>text</th>\n",
       "    </tr>\n",
       "  </thead>\n",
       "  <tbody>\n",
       "    <tr>\n",
       "      <th>0</th>\n",
       "      <td>ham</td>\n",
       "      <td>Subject: flow volumes at oxy gladewater , mete...</td>\n",
       "    </tr>\n",
       "    <tr>\n",
       "      <th>1</th>\n",
       "      <td>ham</td>\n",
       "      <td>Subject: 02 / 00 natural gas nomination\\r\\nenr...</td>\n",
       "    </tr>\n",
       "    <tr>\n",
       "      <th>2</th>\n",
       "      <td>spam</td>\n",
       "      <td>Subject: re : official us goverment program\\r\\...</td>\n",
       "    </tr>\n",
       "    <tr>\n",
       "      <th>3</th>\n",
       "      <td>ham</td>\n",
       "      <td>Subject: hpl nom for march 17 , 2001\\r\\n( see ...</td>\n",
       "    </tr>\n",
       "    <tr>\n",
       "      <th>4</th>\n",
       "      <td>ham</td>\n",
       "      <td>Subject: hpl noms for april 17 , 2001\\r\\n( see...</td>\n",
       "    </tr>\n",
       "  </tbody>\n",
       "</table>\n",
       "</div>"
      ],
      "text/plain": [
       "  label                                               text\n",
       "0   ham  Subject: flow volumes at oxy gladewater , mete...\n",
       "1   ham  Subject: 02 / 00 natural gas nomination\\r\\nenr...\n",
       "2  spam  Subject: re : official us goverment program\\r\\...\n",
       "3   ham  Subject: hpl nom for march 17 , 2001\\r\\n( see ...\n",
       "4   ham  Subject: hpl noms for april 17 , 2001\\r\\n( see..."
      ]
     },
     "execution_count": 6,
     "metadata": {},
     "output_type": "execute_result"
    }
   ],
   "source": [
    "df = pd.read_csv(\"../data/raw/dataset.csv\")\n",
    "df.head()"
   ]
  },
  {
   "cell_type": "code",
   "execution_count": 7,
   "id": "b0b72bd1-36cc-4a77-906b-e524d5fc1942",
   "metadata": {},
   "outputs": [
    {
     "data": {
      "text/plain": [
       "(4136, 2)"
      ]
     },
     "execution_count": 7,
     "metadata": {},
     "output_type": "execute_result"
    }
   ],
   "source": [
    "df.shape"
   ]
  },
  {
   "cell_type": "code",
   "execution_count": 8,
   "id": "774bb89b-5912-48cb-b644-fd0ead9ecb64",
   "metadata": {},
   "outputs": [],
   "source": [
    "df.drop_duplicates(inplace = True)"
   ]
  },
  {
   "cell_type": "code",
   "execution_count": 9,
   "id": "917d3e27-32de-410d-a5ae-385d3c8af76a",
   "metadata": {},
   "outputs": [
    {
     "data": {
      "text/plain": [
       "(4019, 2)"
      ]
     },
     "execution_count": 9,
     "metadata": {},
     "output_type": "execute_result"
    }
   ],
   "source": [
    "df.shape"
   ]
  },
  {
   "cell_type": "code",
   "execution_count": 10,
   "id": "b43884c0-f5c6-4a37-8ec3-9e5b5a1b1fd1",
   "metadata": {},
   "outputs": [
    {
     "name": "stdout",
     "output_type": "stream",
     "text": [
      "       0\n",
      "label  0\n",
      "text   0\n"
     ]
    }
   ],
   "source": [
    "print(pd.DataFrame(df.isnull().sum()))"
   ]
  },
  {
   "cell_type": "code",
   "execution_count": 11,
   "id": "dd8a45de-e2bd-4275-a320-51b0b3fa30fc",
   "metadata": {},
   "outputs": [
    {
     "data": {
      "text/plain": [
       "label\n",
       "ham     2854\n",
       "spam    1165\n",
       "Name: count, dtype: int64"
      ]
     },
     "execution_count": 11,
     "metadata": {},
     "output_type": "execute_result"
    }
   ],
   "source": [
    "df['label'].value_counts()"
   ]
  },
  {
   "cell_type": "code",
   "execution_count": 12,
   "id": "040b9bd0-0cdb-4f70-800b-a076e96c7947",
   "metadata": {},
   "outputs": [
    {
     "data": {
      "text/plain": [
       "<Axes: >"
      ]
     },
     "execution_count": 12,
     "metadata": {},
     "output_type": "execute_result"
    },
    {
     "data": {
      "image/png": "[encoded data removed]",
      "text/plain": [
       "<Figure size 640x480 with 1 Axes>"
      ]
     },
     "metadata": {},
     "output_type": "display_data"
    }
   ],
   "source": [
    "df['label'].hist()"
   ]
  },
  {
   "cell_type": "code",
   "execution_count": 13,
   "id": "afb6854b-ef0a-402c-b9ef-866c2e7da6e0",
   "metadata": {},
   "outputs": [],
   "source": [
    "def read_filtered_sms(df, start_idx, end_idx, sms_filter):\n",
    "    for sms in df[df['label']==sms_filter]['text'][start_idx:end_idx]:\n",
    "        print('-'*100)\n",
    "        print(sms)"
   ]
  },
  {
   "cell_type": "code",
   "execution_count": 14,
   "id": "9a6eb030-b446-4d0b-9068-e8f1fa17ff67",
   "metadata": {},
   "outputs": [],
   "source": [
    "#read_filtered_sms(df, 0, 10, 'ham')"
   ]
  },
  {
   "cell_type": "code",
   "execution_count": 15,
   "id": "038dce3f-e6df-4009-8f63-db3ee409fc0e",
   "metadata": {},
   "outputs": [],
   "source": [
    "#read_filtered_sms(df, 10, 15, 'spam')"
   ]
  },
  {
   "cell_type": "code",
   "execution_count": 16,
   "id": "6e0b853f-c20b-4bf1-bb43-239649e73a9d",
   "metadata": {},
   "outputs": [],
   "source": [
    "#df['label'] = df.label.map({'ham':0, 'spam':1})"
   ]
  },
  {
   "cell_type": "code",
   "execution_count": 17,
   "id": "d90b55ae-4e98-4cc6-a6a5-000b99b066aa",
   "metadata": {},
   "outputs": [
    {
     "data": {
      "text/html": [
       "<div>\n",
       "<style scoped>\n",
       "    .dataframe tbody tr th:only-of-type {\n",
       "        vertical-align: middle;\n",
       "    }\n",
       "\n",
       "    .dataframe tbody tr th {\n",
       "        vertical-align: top;\n",
       "    }\n",
       "\n",
       "    .dataframe thead th {\n",
       "        text-align: right;\n",
       "    }\n",
       "</style>\n",
       "<table border=\"1\" class=\"dataframe\">\n",
       "  <thead>\n",
       "    <tr style=\"text-align: right;\">\n",
       "      <th></th>\n",
       "      <th>label</th>\n",
       "      <th>text</th>\n",
       "    </tr>\n",
       "  </thead>\n",
       "  <tbody>\n",
       "    <tr>\n",
       "      <th>0</th>\n",
       "      <td>ham</td>\n",
       "      <td>Subject: flow volumes at oxy gladewater , mete...</td>\n",
       "    </tr>\n",
       "    <tr>\n",
       "      <th>1</th>\n",
       "      <td>ham</td>\n",
       "      <td>Subject: 02 / 00 natural gas nomination\\r\\nenr...</td>\n",
       "    </tr>\n",
       "    <tr>\n",
       "      <th>2</th>\n",
       "      <td>spam</td>\n",
       "      <td>Subject: re : official us goverment program\\r\\...</td>\n",
       "    </tr>\n",
       "    <tr>\n",
       "      <th>3</th>\n",
       "      <td>ham</td>\n",
       "      <td>Subject: hpl nom for march 17 , 2001\\r\\n( see ...</td>\n",
       "    </tr>\n",
       "    <tr>\n",
       "      <th>4</th>\n",
       "      <td>ham</td>\n",
       "      <td>Subject: hpl noms for april 17 , 2001\\r\\n( see...</td>\n",
       "    </tr>\n",
       "  </tbody>\n",
       "</table>\n",
       "</div>"
      ],
      "text/plain": [
       "  label                                               text\n",
       "0   ham  Subject: flow volumes at oxy gladewater , mete...\n",
       "1   ham  Subject: 02 / 00 natural gas nomination\\r\\nenr...\n",
       "2  spam  Subject: re : official us goverment program\\r\\...\n",
       "3   ham  Subject: hpl nom for march 17 , 2001\\r\\n( see ...\n",
       "4   ham  Subject: hpl noms for april 17 , 2001\\r\\n( see..."
      ]
     },
     "execution_count": 17,
     "metadata": {},
     "output_type": "execute_result"
    }
   ],
   "source": [
    "df.head()"
   ]
  },
  {
   "cell_type": "code",
   "execution_count": 18,
   "id": "14d320a9-d227-4229-938d-fceeb92ffd9a",
   "metadata": {},
   "outputs": [],
   "source": [
    "dataset = Dataset.from_pandas(df)"
   ]
  },
  {
   "cell_type": "code",
   "execution_count": 19,
   "id": "28e3921f-4baf-4fc4-b251-eef3cce23a92",
   "metadata": {},
   "outputs": [
    {
     "data": {
      "text/plain": [
       "{'label': Value(dtype='string', id=None),\n",
       " 'text': Value(dtype='string', id=None),\n",
       " '__index_level_0__': Value(dtype='int64', id=None)}"
      ]
     },
     "execution_count": 19,
     "metadata": {},
     "output_type": "execute_result"
    }
   ],
   "source": [
    "dataset.features"
   ]
  },
  {
   "cell_type": "code",
   "execution_count": 20,
   "id": "3abc3cfd-e07d-4223-8823-632849b9bd9f",
   "metadata": {},
   "outputs": [
    {
     "name": "stderr",
     "output_type": "stream",
     "text": [
      "Casting to class labels: 100%|██████████████████████████████████████████████████████████████████████████████████████████████████████████████████████████████████████████| 4019/4019 [00:00<00:00, 226708.46 examples/s]\n"
     ]
    },
    {
     "data": {
      "text/plain": [
       "Dataset({\n",
       "    features: ['label', 'text', '__index_level_0__'],\n",
       "    num_rows: 4019\n",
       "})"
      ]
     },
     "execution_count": 20,
     "metadata": {},
     "output_type": "execute_result"
    }
   ],
   "source": [
    "dataset = dataset.class_encode_column(\"label\")\n",
    "dataset"
   ]
  },
  {
   "cell_type": "code",
   "execution_count": 21,
   "id": "c18b9933-598b-4f49-9f7f-dc1e9f384c64",
   "metadata": {},
   "outputs": [
    {
     "data": {
      "text/plain": [
       "{'label': ClassLabel(names=['ham', 'spam'], id=None),\n",
       " 'text': Value(dtype='string', id=None),\n",
       " '__index_level_0__': Value(dtype='int64', id=None)}"
      ]
     },
     "execution_count": 21,
     "metadata": {},
     "output_type": "execute_result"
    }
   ],
   "source": [
    "dataset.features"
   ]
  },
  {
   "cell_type": "code",
   "execution_count": 22,
   "id": "cb86cb1c-cbba-4cc8-aefd-1f6f022b35ef",
   "metadata": {},
   "outputs": [
    {
     "data": {
      "text/plain": [
       "DatasetDict({\n",
       "    train: Dataset({\n",
       "        features: ['label', 'text', '__index_level_0__'],\n",
       "        num_rows: 3617\n",
       "    })\n",
       "    test: Dataset({\n",
       "        features: ['label', 'text', '__index_level_0__'],\n",
       "        num_rows: 402\n",
       "    })\n",
       "})"
      ]
     },
     "execution_count": 22,
     "metadata": {},
     "output_type": "execute_result"
    }
   ],
   "source": [
    "ds = dataset.train_test_split(test_size=0.1, seed=42, stratify_by_column=\"label\")\n",
    "ds"
   ]
  },
  {
   "cell_type": "code",
   "execution_count": 23,
   "id": "91f0feaf-42ab-4d16-83ca-67d2566770dd",
   "metadata": {},
   "outputs": [
    {
     "data": {
      "text/plain": [
       "{'label': ClassLabel(names=['ham', 'spam'], id=None),\n",
       " 'text': Value(dtype='string', id=None),\n",
       " '__index_level_0__': Value(dtype='int64', id=None)}"
      ]
     },
     "execution_count": 23,
     "metadata": {},
     "output_type": "execute_result"
    }
   ],
   "source": [
    "ds[\"train\"].features"
   ]
  },
  {
   "cell_type": "markdown",
   "id": "f9e463b0-719c-4cb0-b34f-8e25be2ac651",
   "metadata": {},
   "source": [
    "## Tokenize the sms\n",
    "Use the tokenizer to tokenize the sms in which we want to classify as `SPAM` / `NON SPAM`. "
   ]
  },
  {
   "cell_type": "code",
   "execution_count": 24,
   "id": "d4e72f1a-e9b5-43a7-ba75-e01508d9f5f6",
   "metadata": {},
   "outputs": [
    {
     "name": "stderr",
     "output_type": "stream",
     "text": [
      "tokenizer_config.json: 100%|██████████████████████████████████████████████████████████████████████████████████████████████████████████████████████████████████████████████████████| 1.31k/1.31k [00:00<00:00, 3.63MB/s]\n",
      "vocab.json: 100%|███████████████████████████████████████████████████████████████████████████████████████████████████████████████████████████████████████████████████████████████████| 999k/999k [00:00<00:00, 2.87MB/s]\n",
      "merges.txt: 100%|███████████████████████████████████████████████████████████████████████████████████████████████████████████████████████████████████████████████████████████████████| 456k/456k [00:00<00:00, 1.82MB/s]\n",
      "special_tokens_map.json: 100%|████████████████████████████████████████████████████████████████████████████████████████████████████████████████████████████████████████████████████████| 957/957 [00:00<00:00, 5.43MB/s]\n"
     ]
    }
   ],
   "source": [
    "model_path = 'mshenoda/roberta-spam'\n",
    "tokenizer = AutoTokenizer.from_pretrained(model_path)"
   ]
  },
  {
   "cell_type": "code",
   "execution_count": 25,
   "id": "175736d8-0c8c-4ba0-8397-ce071835a26c",
   "metadata": {},
   "outputs": [],
   "source": [
    "def preprocess_function(ds):\n",
    "    return tokenizer(ds['text'], truncation=True, return_overflowing_tokens=True)"
   ]
  },
  {
   "cell_type": "code",
   "execution_count": 26,
   "id": "5395131f-1959-4d60-92fa-fd37760f8a0b",
   "metadata": {},
   "outputs": [
    {
     "name": "stderr",
     "output_type": "stream",
     "text": [
      "Map: 100%|████████████████████████████████████████████████████████████████████████████████████████████████████████████████████████████████████████████████████████████████| 3617/3617 [00:01<00:00, 3420.95 examples/s]\n",
      "Map: 100%|██████████████████████████████████████████████████████████████████████████████████████████████████████████████████████████████████████████████████████████████████| 402/402 [00:00<00:00, 2519.65 examples/s]\n"
     ]
    },
    {
     "data": {
      "text/plain": [
       "DatasetDict({\n",
       "    train: Dataset({\n",
       "        features: ['input_ids', 'attention_mask', 'overflow_to_sample_mapping'],\n",
       "        num_rows: 4662\n",
       "    })\n",
       "    test: Dataset({\n",
       "        features: ['input_ids', 'attention_mask', 'overflow_to_sample_mapping'],\n",
       "        num_rows: 520\n",
       "    })\n",
       "})"
      ]
     },
     "execution_count": 26,
     "metadata": {},
     "output_type": "execute_result"
    }
   ],
   "source": [
    "# https://huggingface.co/learn/nlp-course/chapter5/3?fw=pt#the-%3Ccode%3Emap()%3C/code%3E-method%E2%80%99s-superpowers\n",
    "tokenized_sms = ds.map(preprocess_function, batched=True, remove_columns=dataset.column_names)\n",
    "tokenized_sms"
   ]
  },
  {
   "cell_type": "code",
   "execution_count": 27,
   "id": "a58d9ee7-68bb-477e-b7f5-d36989cfbb57",
   "metadata": {},
   "outputs": [],
   "source": [
    "def tokenize_and_split(ds):\n",
    "    result = tokenizer(\n",
    "        ds[\"text\"],\n",
    "        truncation=True,\n",
    "        max_length=128,\n",
    "        return_overflowing_tokens=True,\n",
    "    )\n",
    "    # Extract mapping between new and old indices\n",
    "    sample_map = result.pop(\"overflow_to_sample_mapping\")\n",
    "    for key, values in ds.items():\n",
    "        result[key] = [values[i] for i in sample_map]\n",
    "    return result\n"
   ]
  },
  {
   "cell_type": "code",
   "execution_count": 28,
   "id": "b4aed5e3-6f14-40b0-aefc-3837933c8a1b",
   "metadata": {},
   "outputs": [
    {
     "name": "stderr",
     "output_type": "stream",
     "text": [
      "Map: 100%|████████████████████████████████████████████████████████████████████████████████████████████████████████████████████████████████████████████████████████████████| 3617/3617 [00:01<00:00, 1974.10 examples/s]\n",
      "Map: 100%|██████████████████████████████████████████████████████████████████████████████████████████████████████████████████████████████████████████████████████████████████| 402/402 [00:00<00:00, 3302.65 examples/s]\n"
     ]
    },
    {
     "data": {
      "text/plain": [
       "DatasetDict({\n",
       "    train: Dataset({\n",
       "        features: ['label', 'text', '__index_level_0__', 'input_ids', 'attention_mask'],\n",
       "        num_rows: 11089\n",
       "    })\n",
       "    test: Dataset({\n",
       "        features: ['label', 'text', '__index_level_0__', 'input_ids', 'attention_mask'],\n",
       "        num_rows: 1247\n",
       "    })\n",
       "})"
      ]
     },
     "execution_count": 28,
     "metadata": {},
     "output_type": "execute_result"
    }
   ],
   "source": [
    "tokenized_sms = ds.map(tokenize_and_split, batched=True)\n",
    "tokenized_sms"
   ]
  },
  {
   "cell_type": "code",
   "execution_count": 29,
   "id": "a34d6a17-eced-4272-9482-918bc069291a",
   "metadata": {},
   "outputs": [
    {
     "name": "stdout",
     "output_type": "stream",
     "text": [
      "Input IDs length: 5\n",
      "Input chunk lengths: [64, 64, 64, 15, 41]\n",
      "Chunk mapping: [0, 0, 0, 0, 1]\n"
     ]
    }
   ],
   "source": [
    "context_length = 64\n",
    "\n",
    "outputs = tokenizer(\n",
    "    ds['train'][:2]['text'],\n",
    "    truncation=True,\n",
    "    max_length=context_length,\n",
    "    return_overflowing_tokens=True,\n",
    "    return_length=True,\n",
    ")\n",
    "\n",
    "print(f\"Input IDs length: {len(outputs['input_ids'])}\")\n",
    "print(f\"Input chunk lengths: {(outputs['length'])}\")\n",
    "print(f\"Chunk mapping: {outputs['overflow_to_sample_mapping']}\")"
   ]
  },
  {
   "cell_type": "markdown",
   "id": "f7e99b04-4d14-44b9-a073-472b0e3f47e3",
   "metadata": {},
   "source": [
    "We can see that we get 6 segments in total from those 2 sms examples. Looking at the chunk lengths, we can see that the chunks at the ends of the first sms have less than 128 tokens (97). These represent just a small fraction of the total chunks that we have, so we can safely throw them away. With the overflow_to_sample_mapping field, we can also reconstruct which chunks belonged to which input samples.\n",
    "\n",
    "With this operation we’re using a handy feature of the Dataset.map() function in Datasets, which is that it does not require one-to-one maps; we can create batches with more or fewer elements than the input batch. This is useful when doing operations like data augmentation or data filtering that change the number of elements. In our case, when tokenizing each element into chunks of the specified context size, we create many samples from each sms. We just need to make sure to delete the existing columns, since they have a conflicting size. If we wanted to keep them, we could repeat them appropriately and return them within the Dataset.map() call:"
   ]
  },
  {
   "cell_type": "markdown",
   "id": "27ec7112-de13-4e84-a449-0663a2992440",
   "metadata": {},
   "source": [
    "Create a batch of examples using `DataCollatorWithPadding`. It’s more efficient to *dynamically pad* the sentences to the longest length in a batch during collation, instead of padding the whole dataset to the maximum length."
   ]
  },
  {
   "cell_type": "code",
   "execution_count": 30,
   "id": "419ba602-13fe-4c1d-8d4c-caedace92a23",
   "metadata": {},
   "outputs": [],
   "source": [
    "data_collator = DataCollatorWithPadding(tokenizer=tokenizer)"
   ]
  },
  {
   "cell_type": "markdown",
   "id": "e4e550e3-73fd-45e6-a19c-b92e8568b3fd",
   "metadata": {},
   "source": [
    "### Evaluate"
   ]
  },
  {
   "cell_type": "code",
   "execution_count": 31,
   "id": "2884930d-d857-4f07-98b6-dc6e67e424fc",
   "metadata": {},
   "outputs": [],
   "source": [
    "def compute_metrics(y_pred):\n",
    "    logits, labels = y_pred\n",
    "    predictions = np.argmax(logits, axis=1)\n",
    "    return evaluate.load(\"f1\").compute(predictions=predictions, references=labels, average=\"macro\")"
   ]
  },
  {
   "cell_type": "markdown",
   "id": "a97227d4-ffce-4490-bcb5-b74f68df35ff",
   "metadata": {},
   "source": [
    "### Train "
   ]
  },
  {
   "cell_type": "code",
   "execution_count": 32,
   "id": "2c246576-f062-42e2-bcc3-cfa624aa6a89",
   "metadata": {},
   "outputs": [
    {
     "data": {
      "text/plain": [
       "{0, 1}"
      ]
     },
     "execution_count": 32,
     "metadata": {},
     "output_type": "execute_result"
    }
   ],
   "source": [
    "set(ds['train']['label'])"
   ]
  },
  {
   "cell_type": "code",
   "execution_count": 33,
   "id": "c597435c-a0ea-4405-981a-a6341ec604ee",
   "metadata": {},
   "outputs": [
    {
     "name": "stderr",
     "output_type": "stream",
     "text": [
      "config.json: 100%|████████████████████████████████████████████████████████████████████████████████████████████████████████████████████████████████████████████████████████████████████| 735/735 [00:00<00:00, 2.40MB/s]\n",
      "model.safetensors: 100%|████████████████████████████████████████████████████████████████████████████████████████████████████████████████████████████████████████████████████████████| 499M/499M [02:16<00:00, 3.64MB/s]\n"
     ]
    }
   ],
   "source": [
    "id2label = {0: \"ham\", 1: \"spam\"}\n",
    "label2id = {\"ham\": 0, \"spam\": 1}\n",
    "\n",
    "model = AutoModelForSequenceClassification.from_pretrained(\n",
    "    \"mshenoda/roberta-spam\", num_labels=2, id2label=id2label, label2id=label2id\n",
    ")"
   ]
  },
  {
   "cell_type": "markdown",
   "id": "b36d0246-f93c-422d-b033-a1af8577fae4",
   "metadata": {},
   "source": [
    "####  training hyperparameters"
   ]
  },
  {
   "cell_type": "code",
   "execution_count": 34,
   "id": "f77d5a9c-b0bc-4179-94f6-b2c1ff9ace95",
   "metadata": {},
   "outputs": [],
   "source": [
    "training_args = TrainingArguments(\n",
    "    output_dir=\"roberta-spam\",\n",
    "    learning_rate=5e-4,\n",
    "    per_device_train_batch_size=32,\n",
    "    per_device_eval_batch_size=32,\n",
    "    num_train_epochs=2,\n",
    "    weight_decay=0.01,\n",
    "    evaluation_strategy=\"epoch\",\n",
    "    save_strategy=\"epoch\",\n",
    "    use_cpu=True,\n",
    "    #load_best_model_at_end=True,\n",
    "    push_to_hub=False,\n",
    ")"
   ]
  },
  {
   "cell_type": "code",
   "execution_count": 35,
   "id": "043c7254-394d-46bb-992e-70458d4e80f3",
   "metadata": {},
   "outputs": [
    {
     "data": {
      "text/plain": [
       "Dataset({\n",
       "    features: ['label', 'text', '__index_level_0__'],\n",
       "    num_rows: 3617\n",
       "})"
      ]
     },
     "execution_count": 35,
     "metadata": {},
     "output_type": "execute_result"
    }
   ],
   "source": [
    "ds['train']"
   ]
  },
  {
   "cell_type": "code",
   "execution_count": 36,
   "id": "5ab48ed9-241a-4e3f-bdd6-591a2f2676d0",
   "metadata": {},
   "outputs": [],
   "source": [
    "class EvalOnTrainCallback(TrainerCallback):\n",
    "    \"\"\"Custom callback to evaluate on the training set during training.\"\"\"\n",
    "\n",
    "    def __init__(self, trainer) -> None:\n",
    "        super().__init__()\n",
    "        self._trainer = trainer\n",
    "\n",
    "    def on_epoch_end(self, args, state, control, **kwargs):\n",
    "        if control.should_evaluate:\n",
    "            control_train = copy.deepcopy(control)\n",
    "            self._trainer.evaluate(\n",
    "                eval_dataset=self._trainer.train_dataset, metric_key_prefix=\"train\"\n",
    "            )\n",
    "            return control_train"
   ]
  },
  {
   "cell_type": "code",
   "execution_count": 37,
   "id": "e3bd39f9-b566-46da-a67a-e83ff6a754e2",
   "metadata": {},
   "outputs": [],
   "source": [
    "trainer = Trainer(\n",
    "    model=model,\n",
    "    args=training_args,\n",
    "    train_dataset=tokenized_sms[\"train\"],\n",
    "    eval_dataset=tokenized_sms[\"test\"],\n",
    "    tokenizer=tokenizer,\n",
    "    #data_collator=data_collator,\n",
    "    compute_metrics=compute_metrics,\n",
    ")\n",
    "trainer.add_callback(EvalOnTrainCallback(trainer))"
   ]
  },
  {
   "cell_type": "code",
   "execution_count": 38,
   "id": "63223e08-7821-4198-b491-556d428145e6",
   "metadata": {},
   "outputs": [
    {
     "data": {
      "text/plain": [
       "'0.0'"
      ]
     },
     "execution_count": 38,
     "metadata": {},
     "output_type": "execute_result"
    }
   ],
   "source": [
    "device = torch.device('mps')\n",
    "os.environ['PYTORCH_MPS_HIGH_WATERMARK_RATIO']='0.0'\n",
    "os.getenv('PYTORCH_MPS_HIGH_WATERMARK_RATIO')"
   ]
  },
  {
   "cell_type": "code",
   "execution_count": null,
   "id": "ce4d5243-ae94-42b8-aade-7b37f4e71eac",
   "metadata": {},
   "outputs": [
    {
     "data": {
      "text/html": [
       "\n",
       "    <div>\n",
       "      \n",
       "      <progress value='148' max='694' style='width:300px; height:20px; vertical-align: middle;'></progress>\n",
       "      [148/694 22:27 < 1:23:59, 0.11 it/s, Epoch 0.42/2]\n",
       "    </div>\n",
       "    <table border=\"1\" class=\"dataframe\">\n",
       "  <thead>\n",
       " <tr style=\"text-align: left;\">\n",
       "      <th>Epoch</th>\n",
       "      <th>Training Loss</th>\n",
       "      <th>Validation Loss</th>\n",
       "    </tr>\n",
       "  </thead>\n",
       "  <tbody>\n",
       "  </tbody>\n",
       "</table><p>"
      ],
      "text/plain": [
       "<IPython.core.display.HTML object>"
      ]
     },
     "metadata": {},
     "output_type": "display_data"
    }
   ],
   "source": [
    "trainer.train()"
   ]
  },
  {
   "cell_type": "code",
   "execution_count": null,
   "id": "ddfc766e-14ba-40c2-8ea4-b1bcb6755f06",
   "metadata": {},
   "outputs": [],
   "source": [
    "trainer.save_model('../data/models/roberta-spam')"
   ]
  },
  {
   "cell_type": "code",
   "execution_count": null,
   "id": "aa108f33-6e90-4809-9e6c-f54006e44a42",
   "metadata": {},
   "outputs": [],
   "source": [
    "pd.DataFrame(trainer.state.log_history)"
   ]
  },
  {
   "cell_type": "markdown",
   "id": "27a83734-b896-4147-808d-46ef5d184538",
   "metadata": {},
   "source": [
    "### Inference\n",
    "#### Load the model\n",
    "Test the new fine tuned model on sms and see how it works."
   ]
  },
  {
   "cell_type": "code",
   "execution_count": null,
   "id": "3fc7353e-4380-4537-bc61-16d8d9a2cb21",
   "metadata": {},
   "outputs": [],
   "source": [
    "device = torch.device(\"cuda\") if torch.cuda.is_available() else torch.device(\"cpu\")\n",
    "classifier = pipeline(task=\"text-classification\", model=\"mshenoda/roberta-spam\")"
   ]
  },
  {
   "cell_type": "code",
   "execution_count": null,
   "id": "0f01f08f-4c9c-4765-8f38-7c9bf93df78a",
   "metadata": {},
   "outputs": [],
   "source": []
  },
  {
   "cell_type": "code",
   "execution_count": null,
   "id": "af8c6ee8-2cba-4de6-9d3a-642203785c24",
   "metadata": {},
   "outputs": [],
   "source": [
    "sms = \"Subject: flow volumes at oxy gladewater\"\n",
    "\n",
    "classifier = pipeline(task=\"text-classification\", model=\"mshenoda/roberta-spam\")\n",
    "classifier(sms)"
   ]
  },
  {
   "cell_type": "code",
   "execution_count": null,
   "id": "8621aaf0-8096-4fad-9406-6e3cc5576d5b",
   "metadata": {},
   "outputs": [],
   "source": []
  }
 ],
 "metadata": {
  "kernelspec": {
   "display_name": "Python 3 (ipykernel)",
   "language": "python",
   "name": "python3"
  },
  "language_info": {
   "codemirror_mode": {
    "name": "ipython",
    "version": 3
   },
   "file_extension": ".py",
   "mimetype": "text/x-python",
   "name": "python",
   "nbconvert_exporter": "python",
   "pygments_lexer": "ipython3",
   "version": "3.11.7"
  }
 },
 "nbformat": 4,
 "nbformat_minor": 5
}
